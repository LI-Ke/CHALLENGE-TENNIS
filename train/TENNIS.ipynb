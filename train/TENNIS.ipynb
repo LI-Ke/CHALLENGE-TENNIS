{
 "cells": [
  {
   "cell_type": "markdown",
   "metadata": {},
   "source": [
    "***\n",
    "***\n",
    "# FDMS : CHALLENGE TENNIS - Li Ke, Husseini Rani\n",
    "***\n",
    "***"
   ]
  },
  {
   "cell_type": "markdown",
   "metadata": {},
   "source": [
    "<br/>\n",
    "# Méthodologie appliquée :\n",
    "***\n",
    "***\n",
    "<br/>\n",
    "¤ **Partie1 : Dataiku : Data Cleansing**<br/><br/>\n",
    "***\n",
    "¤ **Partie2 : Jointures & Data Augmentation**<br/>\n",
    "* *Différence des Ratings* (en Dataiku) <br/>\n",
    "Après avoir exploré les données et les avoir nettoyer, nous avons décider de créer de nouvelles features issues des ratings ATP des joueurs.<br/>\n",
    "Donc pour chaque match nous créons les caractéristiques suivantes : moyenne des points obtenus par chaque joueur tous les trois points (*POINTS_P1, POINT_P2*), moyenne des ratings de chaque joueur tous les 3 mois (*POS_P1, POS_P2*), différence des moyennes desrating entre les deux joueurs qui disputent le match (*DIFF_RATING*). <br/> NB: on remplace les valeurs nulles de points par 0 et de ranking par 1000.<br/><br/>\n",
    "* *Statistiques sur les tournois* : <a href=\"Tours Stats.ipynb\">cf. Tours Stats</a> <br/>\n",
    "Dans ce notebook nous avons effectué des statistiques concernant les antécédants de chaque joueur concernant le tournois auquel appartient le match en question. Enfin nous avons rajouté ces features à notre base et essayé pour voir l'amélioration qu'elles apportent à nos prédictions.<br/><br/>\n",
    "* *Statistiques sur les terrains* : <a href=\"Court Stats.ipynb\">cf. Court Stats</a><br/>\n",
    "Dans ce notebook nous avons effectué des statistiques concernant les antécédants de chaque joueur concernant le terrain sur lequel se passe le match en question. Enfin nous avons rajouté ces features à notre base et essayé pour voir l'amélioration qu'elles apportent à nos prédictions.<br/><br/>\n",
    "\n",
    "***    \n",
    "\n",
    "¤ **Partie3 : Apprentissage & Tests**  <a href=\"#Main\">(main)</a><br/>\n",
    "* <a href=\"#Lecture des Données\">Lecture de la base de Train finale</a><br/>\n",
    "* ID1_G :Id du joueur 1<br/>\n",
    "* ID2_G :Id du joueur 2<br/>\n",
    "* ID_T_G : Id du tournois dans lequel se passe le match<br/>\n",
    "* RANK_T : Catégorie à laquelle apprtient le tournois<br/>\n",
    "* ID_C_T : Id du terrains dans lequel se passe le match<br/>\n",
    "* ID_R_G : Id du round dans lequel se passe le match <br/>\n",
    "* POINT_P1 : Moyenne des points obtenus par le joueur 1 selon ATP (tous les 3 mois)<br/>\n",
    "* POS_P1 : Moyenne des ranking ATP du joueur 1 (tous les 3 mois)<br/>\n",
    "* POINT_P2 : Moyenne des points obtenus par le joueur 2 selon ATP (tous les 3 mois)<br/>\n",
    "* POS_P2 : Moyenne des ranking ATP du joueur 2 (tous les 3 mois)<br/>\n",
    "* diff_rating : POS_P1 - POS_P2<br/>\n",
    "* diff_wins_for_tour : Différence des matchs gagnés par chaque joueur pour la catégorie de tournois (RANK_T) en question<br/>\n",
    "* diff_wins_for_tour_ratio : Différence des matchs gagnés par chaque joueur pour la catégorie de tournois (RANK_T) en question. Ratio de match : matchs gagnés par ce joueur pour cette catégorie / total des matchs gagnés par ce joueur (permet de connaître l'apétance du joueur pour ce type de tournois)<br/>\n",
    "* diff_wins_for_court: Idem que pour diff_wins_for_tour mais pour le type de terrain sur lequel se passe le match<br/>\n",
    "* diff_wins_for_court_ratio : Idem que pour diff_wins_for_tour_ratio mais pour le type de terrain<br/>\n",
    "* winner : Label (1 ou 2)\n",
    "<br/><br/>\n",
    "* <a href=\"#Data Vizualisation for Train\">Data Visualisation et vérification de la séparabilité des variables</a><br/>\n",
    "Afin de vérifier la séparabilité de nos variables nous appliquons l'algorithme de data visualisation Isomap. Après plusieurs essais en choisissant à chaque fois des features différentes on trouve que les trois features diff_rating, diff_wins_for_tour et diff_wins_for_court sont les plus séparables. Ce qui nous réconforte car ce sont nos features principales.\n",
    "<br/><br/>\n",
    "* <a href=\"#Features Importance / Dimensionnality Reduction\">Détermination de l'importance des features et réduction de la dimensionnalité</a><br/>\n",
    "Dans cette partie on souhaite adapter les dimensions de notre base à chaque modèle d'apprentissage que nous pouvons utiliser. Le but étant, selon le modèle, d'un côté éliminer les caractéristiques inintéressantes pour améliorer l'apprentissage et d'un autre côté de diminuer la dimensionnalité afin de diminuer le temps d'apprentissage.<br/>\n",
    "Pour cela, nous cherchons l'importance de chaque feature de notre base selon une bonne partie des modèles d'apprentisage que nous pouvons utiliser (SVM linéaire, Randomized Logistic Regression, Random Forest Tree, AdaBoost, Gradient Boosting). Nous rajoutons à ces résultats, l'importance des features selon l'algorithme RFE (recursive feature elimination).<br/><br/>\n",
    "* <a href=\"#Features Selection\">Sélection des Features</a><br/>\n",
    "En fonction des résultats obtenus précédemment, on créé les bases de train des algorithmes AdaBoost, Random Forest Tree et Gradient Boosting en éliminant les features non importantes pour chacune d'elles.<br/><br/>\n",
    "* <a href=\"#Model Selection\">Sélection du modèle à adopter</a><br/>\n",
    "Nous apprenons ensuite nos données selon des modèles: Logistic Regression, KNN score, SVM score, Bagging, AdaBoost, Random Forest Tree, Gradient Boosting. Nous testons tous nos modèles et affichons les resultats.<br/>Nous trouvons que les trois meilleurs modèles pour nos données sont les algorithmes ensemblistes: Bagging, Adaboost, Random Forest Tree et Gradient Boosting (avec 0.72% de bonne prédiction).<br/><br/>\n",
    "* <a href=\"#Model Tuning\">Tuning des meilleurs modèles obtenus</a><br/>\n",
    "On fait ici le tuning des modèles d'apprentissage les plus performants pour notre problème, en essayant de trouver les hyper-paramètres qui donnent les meilleurs résultats. Nous avons également essayé le module GridSerchCV de la librairie sklearn qui trouve les meilleurs hyper-paramètres à partir de Cross-validations, or le compromis entre précision et temps de calcul était très mauvais ce qui nous a poussé à l'abandonner.<br/>\n",
    "On observe au final que le **Gradient Boosting** donne les meilleurs résultats pour notre cas.\n",
    "<br/><br/>\n",
    "\n",
    "* <a href=\"#Test du Modèle Final\">Test sur le meilleur modèle finalement obtenu après tuning</a><br/>\n",
    "Pour résumer cette partie de notre travail, on test une dernière fois le modèle choisi (Gradient Boosting) avec les données sélectionnées pour lui et après avoir trouvé les bons hyper-paramètres à lui appliquer.<br/>Nous obtenons un taux de bonne prédiction de **72.91%** sur nos tests.<br/><br/>\n",
    "***\n",
    "¤ **Partie4 : Prédiction et préparation du fichier leaderboard**\n",
    "\n",
    "* <a href=\"#Prediction\">Prédiction sur la base de test</a><br/>\n",
    "Prédiction sur la base \"games_atp_public\".<br/><br/>\n",
    "* <a href=\"#Data Visualisation sur Test\">Data Visualisation sur nos prédictions</a><br/>\n",
    "Afin de visualiser nos prédictions on effectue une data visualisation de nos résultats par Isomap. Le graph obtenu montre bien notre score de 65.4% où on observe une séparabilité de nos labels mais pas totalement.<br/><br/>\n",
    "* <a href=\"#---> To Leaderboard\">Création du fichier à envoyer pour le leaderboard</a><br/>\n",
    "Création du fichier CSV à soumettre.\n",
    "<br/><br/>\n",
    "***"
   ]
  },
  {
   "cell_type": "markdown",
   "metadata": {},
   "source": [
    "### Sommaire :\n",
    "***\n",
    "\n",
    "- <a href=\"#Main\">Main :</a>\n",
    "    - <a href=\"#Lecture des Données\">Lecture des Données</a>\n",
    "    - <a href=\"#Features Importance / Dimensionnality Reduction\">Features Importance / Dimensionnality Reduction</a>\n",
    "    - <a href=\"#Features Selection\">Features Selection</a>\n",
    "    - <a href=\"#Model Selection\">Model Selection</a>\n",
    "    - <a href=\"#Model Tuning\">Model Tuning</a>\n",
    "    - <a href=\"#Prediction\">Prediction</a>\n",
    "    - <a href=\"#Test du Modèle Final\">Test du Modèle Final </a><br/>\n",
    "    - <a href=\"#---> To Leaderboard\">---> To Leaderboard</a><br/><br/>\n",
    "\n",
    "- <a href=\"#Data Selection Functions\">Data Selection Functions :</a>\n",
    "    - <a href=\"#Features reduction Functions\">Features reduction Functions</a>\n",
    "    - <a href=\"#Data Vizualisation for Train Functions\">Data Vizualisation for Train Functions</a>\n",
    "    - <a href=\"#Features importance Functions\">Features importance Functions</a>\n",
    "    - <a href=\"#Features removal & Data Normalization Functions\">Features removal & Data Normalization Functions</a><br/><br/>\n",
    "\n",
    "- <a href=\"#Model Selection Functions\">Model Selection Functions :</a>\n",
    "    - <a href=\"#Logistic Regression Functions\">Logistic Regression Functions</a>\n",
    "    - <a href=\"#KNN Functions\">KNN Functions</a>\n",
    "    - <a href=\"#SVM Functions\">SVM Functions</a>\n",
    "    - <a href=\"#Bagging\">Bagging</a>\n",
    "    - <a href=\"#Random Forest Tree Functions\">Random Forest Tree Functions</a>\n",
    "    - <a href=\"#Adaboost\">Adaboost</a>\n",
    "    - <a href=\"#Gradient Boosting\">Gradient Boosting</a><br/><br/>\n",
    "\n",
    "- <a href=\"#Data Vizualisation for Test Functions\">Data Vizualisation for Test Functions</a>\n",
    "\n",
    "***\n",
    "<br/><br/>"
   ]
  },
  {
   "cell_type": "markdown",
   "metadata": {},
   "source": [
    "# Résultats :\n",
    "***\n",
    "***\n",
    "<br/>\n",
    "A chaque groupe de features créé, nous avons soumis une version des prédictions pour savoir comment notre système évoluait.<br/>\n",
    "Ensuite lors des étapes de Data et Model Selections nous avons ressoumis nos résultats pour tester à nouveau.<br/>\n",
    "Enfin lorsque nous avons choisis notre modèle **Gradient Boosting avec les bonnes features et après détermination des hyper-paramètres les plus adéquats de notre algorithme**, nous avons resoumis nos prédictions sous le nom de **IRONMAN le 29 décembre** ce qui nous a value un score de **~65.4%** de bonne prédiction.<br/> \n",
    "\n",
    "\n",
    "|**Team**|**Date**|**#Prédictions**|**Score**|**Features**|**Modèle**|**Document Soumis**|\n",
    "|------|------|-----|\n",
    "|XMen | Sat Nov 12 06:57:10 2016 | 3969 | 0.5962962962963 | Ajout de la feature diff_rating en supprimant les matches ayant des valeurs nulles. | SVM linéaire | / |\n",
    "|XMen | Sat Nov 12 07:11:46 2016 | 3969 | 0.53777777777778 | diff_rating + POS_P1/2 + POINT_P1/2 sans valeurs nulles. | SVM linéaire | / |\n",
    "|SpiderMan | Thu Dec 1 05:58:47 2016 | 3969 | 0.51111111111111 | diff_rating sans valeurs nulles. | SVM linéaire | / |\n",
    "|SpiderMan | Thu Dec 1 06:19:49 2016 | 7609 | 0.64042721518987 | diff_rating + POS_P1/2 + POINT_P1/2 en remplaçant les valeurs nulles de ratings par 1000 et les valeurs nulles de Points par 0. | SVM linéaire | / |\n",
    "|DeadPool | Thu Dec 1 06:34:11 2016 | 7609 | 0.51503164556962 | diff_rating + POS_P1/2 + POINT_P1/2 en remplaçant les valeurs nulles par la moyenne de la colonne respective. | SVM linéaire | / |\n",
    "|Anakin | Thu Dec 22 16:56:15 2016 | 7608 | 0.62856012658228 | SpiderMan (2) + Tours Stats | Random Forest Tree | leaderboard_tours_stats.csv |\n",
    "|Skywalker | Fri Dec 23 17:35:34 2016 | 7608 | 0.63053797468354 | Anakin + Courts Stats | Random Forest Tree | leaderboard_court_stats.csv |\n",
    "|IRONMAN2 | Thu Dec 29 08:22:41 2016 | 7608 | 0.60799050632911 | Colonnes issues de la Data Selection  | Random Forest Tree après Tuning | leaderboard_rtf_stats.csv |\n",
    "|**IRONMAN** | **Thu Dec 29 08:17:37 2016**\t | **7608** | **0.65427215189873** | **Colonnes issues de la Data Selection** | **Gradient Boosting après Tuning** | **leaderboard_gradB_stats.csv** |\n",
    "<br/><br/>\n",
    "#### Meilleur score obtenu : 65.4% .\n",
    "\n",
    "<br/>\n",
    "*** \n",
    "<br/><br/>"
   ]
  },
  {
   "cell_type": "code",
   "execution_count": 1,
   "metadata": {
    "collapsed": false
   },
   "outputs": [],
   "source": [
    "import pandas as pd\n",
    "import numpy as np\n",
    "from sklearn import datasets, preprocessing, svm, linear_model, manifold\n",
    "from sklearn.ensemble import RandomForestClassifier, ExtraTreesClassifier, AdaBoostClassifier, BaggingClassifier, GradientBoostingClassifier\n",
    "from sklearn.datasets import make_classification\n",
    "from sklearn.decomposition import PCA\n",
    "from sklearn.discriminant_analysis import LinearDiscriminantAnalysis\n",
    "from sklearn.svm import SVC\n",
    "from sklearn.model_selection import StratifiedKFold, GridSearchCV\n",
    "from sklearn.feature_selection import RFECV, SelectFromModel, RFE\n",
    "from sklearn.datasets import make_classification, make_gaussian_quantiles\n",
    "from sklearn.tree import DecisionTreeClassifier\n",
    "from sklearn.neighbors import NearestNeighbors, KNeighborsClassifier\n",
    "from sklearn.linear_model import RandomizedLogisticRegression, LogisticRegression\n",
    "from sklearn.utils.testing import all_estimators\n",
    "from sklearn.preprocessing import MinMaxScaler\n",
    "import csv\n",
    "import inspect\n",
    "import time\n",
    "import warnings\n",
    "warnings.filterwarnings('ignore')\n",
    "import matplotlib.pyplot as plt\n",
    "from matplotlib.ticker import NullFormatter\n",
    "from mpl_toolkits.mplot3d import Axes3D\n",
    "%matplotlib inline\n",
    "#from sklearn.cross_validation import train_test_split"
   ]
  },
  {
   "cell_type": "markdown",
   "metadata": {},
   "source": [
    "<a id='Data Selection Functions'></a>"
   ]
  },
  {
   "cell_type": "markdown",
   "metadata": {},
   "source": [
    "## ================ Data Selection Functions ================\n"
   ]
  },
  {
   "cell_type": "markdown",
   "metadata": {},
   "source": [
    "Ici à chaque fois qu'on rajoute ou créé des features (par data augmentation ou jointures de tables), on réeffectue une étape de détermination de l'importance de chacune d'entres elles et de data selection et réduction de dimensionnalité par la suite."
   ]
  },
  {
   "cell_type": "code",
   "execution_count": 2,
   "metadata": {
    "collapsed": true
   },
   "outputs": [],
   "source": [
    "def import_data (file_name) :\n",
    "    df_train= pd.read_csv(file_name + '.csv')\n",
    "    k =df_train.shape[1]-1\n",
    "    tmp= df_train.values\n",
    "    #print tmp[:,13]\n",
    "    return tmp[:, :k], tmp[:,k], df_train"
   ]
  },
  {
   "cell_type": "markdown",
   "metadata": {},
   "source": [
    "<a id='Features reduction Functions'></a>"
   ]
  },
  {
   "cell_type": "markdown",
   "metadata": {},
   "source": [
    "### ======== Features reduction Functions ========\n"
   ]
  },
  {
   "cell_type": "code",
   "execution_count": 3,
   "metadata": {
    "collapsed": true
   },
   "outputs": [],
   "source": [
    "def pca_features_dim_reduction(X, y) :\n",
    "    target_names = ['joueur_1', 'joueur_2']\n",
    "    pca = PCA(n_components=2)\n",
    "    X_r = pca.fit(X).transform(X)\n",
    "\n",
    "    lda = LinearDiscriminantAnalysis(n_components=2)\n",
    "    X_r2 = lda.fit(X, y).transform(X)\n",
    "\n",
    "    # Percentage of variance explained for each components\n",
    "    print('explained variance ratio (first two components): %s'\n",
    "          % str(pca.explained_variance_ratio_))\n",
    "\n",
    "    plt.figure()\n",
    "    colors = ['navy', 'darkorange']\n",
    "    lw = 2\n",
    "\n",
    "    for color, i, target_name in zip(colors, [1, 2], target_names):\n",
    "        plt.scatter(X_r[y == i, 0], X_r[y == i, 1], color=color, alpha=.8, lw=lw,\n",
    "                    label=target_name)\n",
    "    plt.legend(loc='best', shadow=False, scatterpoints=1)\n",
    "    plt.title('PCA of training dataset')\n",
    "\n",
    "    plt.figure()\n",
    "#     for color, i, target_name in zip(colors, [0, 1], target_names):\n",
    "#         plt.scatter(X_r2[y == i, 0], X_r2[y == i, 1], alpha=.8, color=color,\n",
    "#                     label=target_name)\n",
    "#     plt.legend(loc='best', shadow=False, scatterpoints=1)\n",
    "#     plt.title('LDA of training dataset')\n",
    "\n",
    "    plt.show()"
   ]
  },
  {
   "cell_type": "code",
   "execution_count": 4,
   "metadata": {
    "collapsed": true
   },
   "outputs": [],
   "source": [
    "def rfe_nbfeatures (X, y) :\n",
    "\n",
    "    # Create the RFE object and compute a cross-validated score.\n",
    "    svc = SVC(kernel=\"linear\")\n",
    "    # The \"accuracy\" scoring is proportional to the number of correct\n",
    "    # classifications\n",
    "    rfecv = RFECV(estimator=svc, step=1, cv=StratifiedKFold(2),\n",
    "                  scoring='accuracy')\n",
    "    rfecv.fit(X, y)\n",
    "\n",
    "    print(\"Optimal number of features : %d\" % rfecv.n_features_)\n",
    "\n",
    "    # Plot number of features VS. cross-validation scores\n",
    "    plt.figure()\n",
    "    plt.xlabel(\"Number of features selected\")\n",
    "    plt.ylabel(\"Cross validation score (nb of correct classifications)\")\n",
    "    plt.plot(range(1, len(rfecv.grid_scores_) + 1), rfecv.grid_scores_)\n",
    "    plt.show()"
   ]
  },
  {
   "cell_type": "markdown",
   "metadata": {},
   "source": [
    "<a id='Data Vizualisation for Train Functions'></a>"
   ]
  },
  {
   "cell_type": "markdown",
   "metadata": {},
   "source": [
    "### ======== Data Vizualisation for Train Functions ========\n"
   ]
  },
  {
   "cell_type": "code",
   "execution_count": 2,
   "metadata": {
    "collapsed": true
   },
   "outputs": [],
   "source": [
    "def data_vizualisation_train () :\n",
    "    with open('df_train_selected_features.csv') as line:\n",
    "        line.readline()\n",
    "        l = line.readline()\n",
    "        data = list()\n",
    "        color = list()\n",
    "        j = 0\n",
    "        while j < 10000 :\n",
    "            x1=l.split(',')[5] #feature 'diff_rating'\n",
    "            x2=l.split(',')[6] #feature 'diff_wins_for_tour'\n",
    "            x3=l.split(',')[8] #feature 'diff_wins_for_court'\n",
    "            label = l.split(',')[10]\n",
    "            if int(label) == 1:\n",
    "                color.append('r')\n",
    "            elif int(label) == 2:\n",
    "                color.append('b')\n",
    "            data.append([float(x1),float(x2),float(x3)])\n",
    "            l = line.readline()\n",
    "            j += 1\n",
    "\n",
    "    data = np.array(data)\n",
    "    color = np.array(color)\n",
    "    #print data\n",
    "    #print data.shape\n",
    "    # 'ID1_G', 'ID2_G', 'ID_T_G', 'ID_R_G', 'POS_P1', 'diff_rating', 'diff_wins_for_tour', 'diff_wins_for_tour_ratio',\n",
    "    # 'diff_wins_for_court', 'diff_wins_for_court_ratio'\n",
    "    return data, color"
   ]
  },
  {
   "cell_type": "markdown",
   "metadata": {},
   "source": [
    "<a id='Features importance Functions'></a>"
   ]
  },
  {
   "cell_type": "markdown",
   "metadata": {},
   "source": [
    "### ======== Features importance Functions ========\n"
   ]
  },
  {
   "cell_type": "code",
   "execution_count": 5,
   "metadata": {
    "collapsed": false
   },
   "outputs": [],
   "source": [
    "def myFeatures_importance_forest (X, y) :\n",
    "    forest = ExtraTreesClassifier(n_estimators=250, random_state=0)\n",
    "\n",
    "    forest.fit(X, y)\n",
    "    importances = forest.feature_importances_\n",
    "    std = np.std([tree.feature_importances_ for tree in forest.estimators_], axis=0)\n",
    "    indices = np.argsort(importances)[::-1]\n",
    "\n",
    "    print(\"Feature ranking for Extra Trees Classifier:\")\n",
    "\n",
    "    for f in range(X.shape[1]):\n",
    "        print(\"%d. feature %d (%f)\" % (f + 1, indices[f]+1, importances[indices[f]]))\n",
    "\n",
    "    plt.figure()\n",
    "    plt.title(\"Feature importances\")\n",
    "    plt.bar(range(X.shape[1]), importances[indices],\n",
    "           color=\"r\", yerr=std[indices], align=\"center\")\n",
    "    plt.xticks(range(X.shape[1]), indices)\n",
    "    plt.xlim([-1, X.shape[1]])\n",
    "    plt.show()"
   ]
  },
  {
   "cell_type": "code",
   "execution_count": 35,
   "metadata": {
    "collapsed": false
   },
   "outputs": [],
   "source": [
    "def rank_to_dict(ranks, names, order=1):\n",
    "    minmax = MinMaxScaler()\n",
    "    ranks = minmax.fit_transform(order*np.array([ranks]).T).T[0]\n",
    "    ranks = map(lambda x: round(x, 2), ranks)\n",
    "    return dict(zip(names, ranks ))\n",
    "\n",
    "def features_importance_by_methods (X, y) :\n",
    "    \n",
    "    print ('Features importance by methods :')\n",
    "    \n",
    "    cols = ['ID1_G', 'ID2_G', 'ID_T_G', 'RANK_T', 'ID_C_T', 'ID_R_G', 'POINT_P1', 'POS_P1', 'POINT_P2', 'POS_P2', \n",
    "            'diff_rating', 'diff_wins_for_tour', 'diff_wins_for_tour_ratio', 'diff_wins_for_court',\n",
    "            'diff_wins_for_court_ratio']\n",
    "    ranks = {}\n",
    "    \n",
    "    lin= svm.LinearSVC()\n",
    "    lin.fit(X, y)\n",
    "    ranks[\"L_SVM\"] = rank_to_dict(np.abs(lin.coef_[0]), cols)\n",
    "\n",
    "    rlasso = RandomizedLogisticRegression(C=0.04)\n",
    "    rlasso.fit(X, y)\n",
    "    ranks[\"Stab\"] = rank_to_dict(np.abs(rlasso.scores_), cols)\n",
    "\n",
    "    rfe = RFE(lin, n_features_to_select=5)\n",
    "    rfe.fit(X,y)\n",
    "    ranks[\"RFE_SVM\"] = rank_to_dict(map(float, rfe.ranking_), cols, order=-1)\n",
    "\n",
    "    reg = LogisticRegression(C=0.01, penalty='l2')\n",
    "    rfe = RFE(reg, n_features_to_select=5)\n",
    "    rfe.fit(X,y)\n",
    "    ranks[\"RFE_REG\"] = rank_to_dict(map(float, rfe.ranking_), cols, order=-1)\n",
    "\n",
    "    rf = RandomForestClassifier()\n",
    "    rf.fit(X,y)\n",
    "    ranks[\"RFT\"] = rank_to_dict(rf.feature_importances_, cols)\n",
    "    \n",
    "    gb = GradientBoostingClassifier(n_estimators=100, learning_rate=0.3, max_depth=3, random_state=0)\n",
    "    gb.fit(X, y)\n",
    "    ranks[\"GRAD_BOOST\"] = rank_to_dict(gb.feature_importances_, cols)\n",
    "\n",
    "    bdt = AdaBoostClassifier(DecisionTreeClassifier(max_depth=2), algorithm=\"SAMME.R\", n_estimators=200, learning_rate=0.56)\n",
    "    bdt.fit(X, y)\n",
    "    ranks[\"ADABOOST\"] = rank_to_dict(bdt.feature_importances_, cols)\n",
    "    \n",
    "    \n",
    "#     r = {}\n",
    "#     for name in cols[:-1]:\n",
    "#         r[name] = round(np.mean([ranks[method][name] for method in ranks.keys()]), 2)\n",
    "\n",
    "#     methods = sorted(ranks.keys())\n",
    "#     ranks[\"Mean\"] = r\n",
    "#     methods.append(\"Mean\")\n",
    "        \n",
    "    imp = pd.DataFrame.from_dict(ranks)\n",
    "    print imp.head(20)\n",
    "\n",
    "    ax = imp.plot(kind='bar', title =\"Feature Importances\", figsize=(15, 15), legend=True)\n",
    "    ax.set_xlabel(\"Features\")\n",
    "    ax.set_ylabel(\"Importance\")\n",
    "    plt.show()"
   ]
  },
  {
   "cell_type": "markdown",
   "metadata": {},
   "source": [
    "<a id='Features removal & Data Normalization Functions'></a>"
   ]
  },
  {
   "cell_type": "markdown",
   "metadata": {},
   "source": [
    "### ======== Features removal & Data Normalization Functions ========"
   ]
  },
  {
   "cell_type": "code",
   "execution_count": 7,
   "metadata": {
    "collapsed": true
   },
   "outputs": [],
   "source": [
    "def remove_features (df, eliminated_features) :\n",
    "    return df.drop(eliminated_features,1)"
   ]
  },
  {
   "cell_type": "code",
   "execution_count": 8,
   "metadata": {
    "collapsed": true
   },
   "outputs": [],
   "source": [
    "def remove_features_from_df (df) :\n",
    "    return df.drop(['RANK_T', 'ID_C_T', 'POINT_P1', 'POINT_P2', 'POS_P2'],1)\n",
    "    # We leave 'diff_rating', 'diff_wins_for_court', 'diff_wins_for_tour', 'diff_wins_for_tour_ratio', \n",
    "    # 'diff_wins_for_court_ratio', 'ID_T_G', 'ID_R_G', 'POS_P1', 'ID1_G', 'ID2_G'"
   ]
  },
  {
   "cell_type": "code",
   "execution_count": 9,
   "metadata": {
    "collapsed": true
   },
   "outputs": [],
   "source": [
    "def data_normalization (X) :\n",
    "    X_normalized = preprocessing.normalize(X, norm='l2')\n",
    "#     print X_normalized\n",
    "    return X_normalized"
   ]
  },
  {
   "cell_type": "markdown",
   "metadata": {},
   "source": [
    "<a id='Model Selection Functions'></a>"
   ]
  },
  {
   "cell_type": "markdown",
   "metadata": {},
   "source": [
    "## ================ Model Selection Functions ================"
   ]
  },
  {
   "cell_type": "code",
   "execution_count": 10,
   "metadata": {
    "collapsed": false
   },
   "outputs": [
    {
     "name": "stdout",
     "output_type": "stream",
     "text": [
      "AdaBoostClassifier\n",
      "BaggingClassifier\n",
      "BernoulliNB\n",
      "CalibratedClassifierCV\n",
      "DecisionTreeClassifier\n",
      "ExtraTreeClassifier\n",
      "ExtraTreesClassifier\n",
      "GaussianNB\n",
      "GradientBoostingClassifier\n",
      "LinearSVC\n",
      "LogisticRegression\n",
      "LogisticRegressionCV\n",
      "MultinomialNB\n",
      "NuSVC\n",
      "Perceptron\n",
      "RandomForestClassifier\n",
      "RidgeClassifier\n",
      "RidgeClassifierCV\n",
      "SGDClassifier\n",
      "SVC\n"
     ]
    }
   ],
   "source": [
    "for name, clf in all_estimators(type_filter='classifier'):\n",
    "    if 'sample_weight' in inspect.getargspec(clf().fit)[0]:\n",
    "        print name"
   ]
  },
  {
   "cell_type": "markdown",
   "metadata": {},
   "source": [
    "<a id='Logistic Regression Functions'></a>"
   ]
  },
  {
   "cell_type": "markdown",
   "metadata": {},
   "source": [
    "### ======== Logistic Regression Functions ========\n"
   ]
  },
  {
   "cell_type": "code",
   "execution_count": 11,
   "metadata": {
    "collapsed": true
   },
   "outputs": [],
   "source": [
    "def get_score_logReg (X, y) :\n",
    "    logreg = linear_model.LogisticRegression(C=1e5)\n",
    "    logreg.fit(X[:60000, :], y[:60000]) \n",
    "    return logreg.score(X[60000:, :], y[60000:])"
   ]
  },
  {
   "cell_type": "markdown",
   "metadata": {},
   "source": [
    "<a id='KNN Functions'></a>"
   ]
  },
  {
   "cell_type": "markdown",
   "metadata": {},
   "source": [
    "### ======== KNN Functions ========\n"
   ]
  },
  {
   "cell_type": "code",
   "execution_count": 12,
   "metadata": {
    "collapsed": true
   },
   "outputs": [],
   "source": [
    "def get_score_knn (X, y) :\n",
    "    neigh = KNeighborsClassifier(n_neighbors=200)\n",
    "    neigh.fit(X[:60000, :], y[:60000]) \n",
    "    return neigh.score(X[60000:, :], y[60000:])"
   ]
  },
  {
   "cell_type": "markdown",
   "metadata": {},
   "source": [
    "<a id='SVM Functions'></a>"
   ]
  },
  {
   "cell_type": "markdown",
   "metadata": {},
   "source": [
    "### ======== SVM Functions ========"
   ]
  },
  {
   "cell_type": "code",
   "execution_count": 13,
   "metadata": {
    "collapsed": true
   },
   "outputs": [],
   "source": [
    "def svm_classif (X, y) :\n",
    "    clf_svm = svm.SVC()\n",
    "    clf_svm.fit(X[:60000, :], y[:60000])\n",
    "    return clf_svm.score(X[60000:, :], y[60000:])"
   ]
  },
  {
   "cell_type": "code",
   "execution_count": 14,
   "metadata": {
    "collapsed": false
   },
   "outputs": [],
   "source": [
    "def svm_tuning(X,y) :\n",
    "    print 'SVM tuning :'\n",
    "    print '------------'\n",
    "    scores = []\n",
    "    start = time.time()\n",
    "    clf_svm = svm.SVC(kernel='linear')\n",
    "    clf_svm.fit(X[:60000, :], y[:60000])\n",
    "    end = time.time()\n",
    "    print ('With rbf : %f' % clf_rfc.score(X[60000:, :], y[60000:]))\n",
    "    print('Time : %f' % (end-start))\n",
    "    start = time.time()\n",
    "    clf_svm = svm.SVC(kernel='poly')\n",
    "    clf_svm.fit(X[:60000, :], y[:60000])\n",
    "    end = time.time()\n",
    "    print ('With rbf : %f' % clf_rfc.score(X[60000:, :], y[60000:]))\n",
    "    print('Time : %f' % (end-start))\n",
    "    start = time.time()\n",
    "    clf_svm = svm.SVC(kernel='rbf')\n",
    "    clf_svm.fit(X[:60000, :], y[:60000])\n",
    "    end = time.time()\n",
    "    print ('With rbf : %f' % clf_rfc.score(X[60000:, :], y[60000:]))\n",
    "    print('Time : %f' % (end-start))\n",
    "#     for i in np.arange (0.1,1.1,0.1) :\n",
    "#         clf_svm = svm.SVC(C=i)\n",
    "#         clf_svm.fit(X[:60000, :], y[:60000])\n",
    "#         score = clf_svm.score(X[60000:, :], y[60000:])\n",
    "#         print ('With C = %f : %f' % (i, score))\n",
    "#     print 'On constate que C= donne de meilleurs résultats.'\n",
    "#     plt.figure()\n",
    "#     plt.xlabel(\"C\")\n",
    "#     plt.ylabel(\"score\")\n",
    "#     plt.plot(range(180, 230, 10), scores_by_estim)\n",
    "#     plt.show()"
   ]
  },
  {
   "cell_type": "markdown",
   "metadata": {},
   "source": [
    "<a id='Bagging'></a>"
   ]
  },
  {
   "cell_type": "markdown",
   "metadata": {
    "collapsed": true
   },
   "source": [
    "### ======== Bagging  Functions ========"
   ]
  },
  {
   "cell_type": "code",
   "execution_count": 15,
   "metadata": {
    "collapsed": true
   },
   "outputs": [],
   "source": [
    "def get_score_bagging(X, y) :\n",
    "    bagging = BaggingClassifier(DecisionTreeClassifier(max_depth=2), max_samples=0.5, max_features=0.5)\n",
    "    bagging.fit(X[:60000, :], y[:60000])\n",
    "    return bagging.score(X[60000:, :], y[60000:])"
   ]
  },
  {
   "cell_type": "markdown",
   "metadata": {},
   "source": [
    "<a id='Random Forest Tree Functions'></a>"
   ]
  },
  {
   "cell_type": "markdown",
   "metadata": {},
   "source": [
    "### ======== Random Forest Tree Functions ========"
   ]
  },
  {
   "cell_type": "code",
   "execution_count": 16,
   "metadata": {
    "collapsed": true
   },
   "outputs": [],
   "source": [
    "def rft_classif (X, y) :\n",
    "    clf_rfc = RandomForestClassifier()\n",
    "    clf_rfc.fit(X[:60000, :], y[:60000])  \n",
    "    return clf_rfc.score(X[60000:, :], y[60000:])"
   ]
  },
  {
   "cell_type": "code",
   "execution_count": 17,
   "metadata": {
    "collapsed": true
   },
   "outputs": [],
   "source": [
    "def rft_predict (X, y, X_test) :\n",
    "    clf_rfc = RandomForestClassifier()\n",
    "    clf_rfc.fit(X[:, :], y[:])  \n",
    "    return clf_rfc.predict(X_test)"
   ]
  },
  {
   "cell_type": "code",
   "execution_count": 18,
   "metadata": {
    "collapsed": false
   },
   "outputs": [],
   "source": [
    "def rft_tuning (X, y) :\n",
    "    print 'Random Forest Tree tuning :'\n",
    "    print '---------------------------'\n",
    "#     for i in range (1, 1001, 100) :\n",
    "#         clf_rfc = RandomForestClassifier(n_estimators=i)\n",
    "#         clf_rfc.fit(X[:60000, :], y[:60000])  \n",
    "#         score = clf_rfc.score(X[60000:, :], y[60000:])\n",
    "#         print ('With n_estimators = %d : %f' % (i, score))\n",
    "    print 'On constate que le nombre d\\'estimateurs = 600 donne de meilleurs résultats.'\n",
    "    \n",
    "#     clf_rfc = RandomForestClassifier(n_estimators=i, criterion='gini')\n",
    "#     clf_rfc.fit(X[:60000, :], y[:60000])  \n",
    "#     print ('With gini criterion : %f' % bdt.score(X[60000:, :], y[60000:]))\n",
    "#     clf_rfc = RandomForestClassifier(n_estimators=600, criterion='entropy')\n",
    "#     clf_rfc.fit(X[:60000, :], y[:60000])  \n",
    "#     print ('With entropy : %f' % clf_rfc.score(X[60000:, :], y[60000:]))\n",
    "    print 'On constate que le criterion entropy donne de meilleurs résultats.'"
   ]
  },
  {
   "cell_type": "markdown",
   "metadata": {},
   "source": [
    "<a id='Adaboost'></a>"
   ]
  },
  {
   "cell_type": "markdown",
   "metadata": {},
   "source": [
    "### ======== AdaBoost ========"
   ]
  },
  {
   "cell_type": "code",
   "execution_count": 19,
   "metadata": {
    "collapsed": true
   },
   "outputs": [],
   "source": [
    "def adaboost_classif(X,y) :\n",
    "    bdt = AdaBoostClassifier(DecisionTreeClassifier(max_depth=2), algorithm=\"SAMME.R\", n_estimators=200, learning_rate=0.56)\n",
    "    bdt.fit(X[:60000, :], y[:60000])\n",
    "    return bdt.score(X[60000:, :], y[60000:])"
   ]
  },
  {
   "cell_type": "code",
   "execution_count": 20,
   "metadata": {
    "collapsed": true
   },
   "outputs": [],
   "source": [
    "def adaboost_predict(X,y, X_test) :\n",
    "    bdt = AdaBoostClassifier(DecisionTreeClassifier(max_depth=2), algorithm=\"SAMME.R\", n_estimators=200, learning_rate=0.56)\n",
    "    bdt.fit(X[:, :], y[:])\n",
    "    return bdt.score(X[:, :], y[:])"
   ]
  },
  {
   "cell_type": "code",
   "execution_count": 21,
   "metadata": {
    "collapsed": true
   },
   "outputs": [],
   "source": [
    "def adaboost_visualisation(X,y) :\n",
    "    plot_colors = \"br\"\n",
    "    plot_step = 0.02\n",
    "    class_names = \"AB\"\n",
    "\n",
    "    plt.figure(figsize=(10, 10))\n",
    "\n",
    "    # Plot the decision boundaries\n",
    "#     plt.subplot(121)\n",
    "#     x_min, x_max = X[:, 0].min() - 1, X[:, 0].max() + 1\n",
    "#     y_min, y_max = X[:, 1].min() - 1, X[:, 1].max() + 1\n",
    "#     xx, yy = np.meshgrid(np.arange(x_min, x_max, plot_step),\n",
    "#                          np.arange(y_min, y_max, plot_step))\n",
    "\n",
    "#     Z = bdt.predict(np.c_[xx.ravel(), yy.ravel()])\n",
    "#     Z = Z.reshape(xx.shape)\n",
    "#     cs = plt.contourf(xx, yy, Z, cmap=plt.cm.Paired)\n",
    "#     plt.axis(\"tight\")\n",
    "\n",
    "#     # Plot the training points\n",
    "#     for i, n, c in zip(range(2), class_names, plot_colors):\n",
    "#         idx = np.where(y == i)\n",
    "#         plt.scatter(X[idx, 0], X[idx, 1],\n",
    "#                     c=c, cmap=plt.cm.Paired,\n",
    "#                     label=\"Class %s\" % n)\n",
    "#     plt.xlim(x_min, x_max)\n",
    "#     plt.ylim(y_min, y_max)\n",
    "#     plt.legend(loc='upper right')\n",
    "#     plt.xlabel('x')\n",
    "#     plt.ylabel('y')\n",
    "#     plt.title('Decision Boundary')\n",
    "\n",
    "    # Plot the two-class decision scores\n",
    "    bdt = AdaBoostClassifier(DecisionTreeClassifier(max_depth=2), algorithm=\"SAMME.R\", n_estimators=200, learning_rate=0.56)\n",
    "    bdt.fit(X[:60000, :], y[:60000])\n",
    "    twoclass_output = bdt.decision_function(X)\n",
    "    plot_range = (twoclass_output.min(), twoclass_output.max())\n",
    "    plt.subplot(122)\n",
    "    for i, n, c in zip([1,2], class_names, plot_colors):\n",
    "        plt.hist(twoclass_output[y == i],\n",
    "                 bins=10,\n",
    "                 range=plot_range,\n",
    "                 facecolor=c,\n",
    "                 label='Class %s' % n,\n",
    "                 alpha=.5)\n",
    "    x1, x2, y1, y2 = plt.axis()\n",
    "    plt.axis((x1, x2, y1, y2 * 1.2))\n",
    "    plt.legend(loc='upper right')\n",
    "    plt.ylabel('Samples')\n",
    "    plt.xlabel('Score')\n",
    "    plt.title('Decision Scores')\n",
    "\n",
    "    plt.tight_layout()\n",
    "    plt.subplots_adjust(wspace=0.35)\n",
    "    plt.show()"
   ]
  },
  {
   "cell_type": "code",
   "execution_count": 22,
   "metadata": {
    "collapsed": false
   },
   "outputs": [],
   "source": [
    "def adaboost_tuning (X, y) :\n",
    "    print 'AdaBoost tuning : '\n",
    "    print '-----------------'\n",
    "#     bdt = AdaBoostClassifier(DecisionTreeClassifier(max_depth=1), algorithm=\"SAMME\", n_estimators=500)\n",
    "#     bdt.fit(X[:60000, :], y[:60000])\n",
    "#     print ('With SAMME algorithm : %f' % bdt.score(X[60000:, :], y[60000:]))\n",
    "#     bdt = AdaBoostClassifier(DecisionTreeClassifier(max_depth=1), algorithm=\"SAMME.R\", n_estimators=500)\n",
    "#     bdt.fit(X[:60000, :], y[:60000])\n",
    "#     print ('With SAMME.R algorithm : %f' % bdt.score(X[60000:, :], y[60000:]))\n",
    "    print 'On constate que l\\'algorithme SAMME.R donne de meilleurs résultats.'\n",
    "#     for i in range(1, X.shape[1]-1) :\n",
    "#         bdt = AdaBoostClassifier(DecisionTreeClassifier(max_depth=i), algorithm=\"SAMME.R\", n_estimators=500)\n",
    "#         bdt.fit(X[:60000, :], y[:60000])\n",
    "#         print ('SAMME.R algorithm with max_depth = %d: %f' % (i, bdt.score(X[60000:, :], y[60000:])))\n",
    "    print 'On constate qu\\'une max_depth de 3 pour les arbres donne de meilleurs résultats.'\n",
    "#     scores_by_estim = []\n",
    "#     for i in range (180, 230, 10) :\n",
    "#         bdt = AdaBoostClassifier(DecisionTreeClassifier(max_depth=2), algorithm=\"SAMME.R\", n_estimators=i)\n",
    "#         bdt.fit(X[:60000, :], y[:60000])\n",
    "#         scores_by_estim.append(bdt.score(X[60000:, :], y[60000:]))\n",
    "#         print ('SAMME.R algorithm with max_depth = 2 and n_estimators = %d: %f' % (i, bdt.score(X[60000:, :], y[60000:])))\n",
    "#     plt.figure()\n",
    "#     plt.xlabel(\"n_estimators\")\n",
    "#     plt.ylabel(\"score\")\n",
    "#     plt.plot(range(180, 230, 10), scores_by_estim)\n",
    "#     plt.show()\n",
    "    print 'On constate qu\\'un n_estimators de 200 donne de meilleurs résultats.'\n",
    "#     scores_by_lr = []\n",
    "#     for i in np.arange (0.55, 0.65, 0.01) :\n",
    "#         bdt = AdaBoostClassifier(DecisionTreeClassifier(max_depth=2), algorithm=\"SAMME.R\", n_estimators=200, learning_rate=i)\n",
    "#         bdt.fit(X[:60000, :], y[:60000])\n",
    "#         scores_by_lr.append(bdt.score(X[60000:, :], y[60000:]))\n",
    "#         print ('SAMME.R algorithm with max_depth = 2 and n_estimators = 200 and learning_rate = %f: %f' % \n",
    "#                 (i, bdt.score(X[60000:, :], y[60000:])))\n",
    "#     plt.figure()\n",
    "#     plt.xlabel(\"learning_rate\")\n",
    "#     plt.ylabel(\"score\")\n",
    "#     plt.plot(np.arange(0.55, 0.65, 0.01), scores_by_lr)\n",
    "#     plt.show()\n",
    "    print 'On constate qu\\'un learning_rate de 0.56 donne de meilleurs résultats.'\n",
    "    print 'Highest score with good AdaBoost configurations : 0.726935'"
   ]
  },
  {
   "cell_type": "markdown",
   "metadata": {},
   "source": [
    "<a id='Gradient Boosting'></a>"
   ]
  },
  {
   "cell_type": "markdown",
   "metadata": {},
   "source": [
    "### ======== Gradient Boosting ========"
   ]
  },
  {
   "cell_type": "code",
   "execution_count": 23,
   "metadata": {
    "collapsed": true
   },
   "outputs": [],
   "source": [
    "def gradientBoosting_classif (X, y) :\n",
    "    grdboost = GradientBoostingClassifier(n_estimators=100, learning_rate=0.3, max_depth=3, random_state=0)\n",
    "    grdboost.fit(X[:60000, :], y[:60000])\n",
    "    return grdboost.score(X[60000:, :], y[60000:])"
   ]
  },
  {
   "cell_type": "code",
   "execution_count": 24,
   "metadata": {
    "collapsed": true
   },
   "outputs": [],
   "source": [
    "def gradientBoosting_predict (X, y, X_test) :\n",
    "    grdboost = GradientBoostingClassifier(n_estimators=100, learning_rate=0.3, max_depth=3, random_state=0)\n",
    "    grdboost.fit(X[:, :], y[:])\n",
    "    return grdboost.predict(X_test)"
   ]
  },
  {
   "cell_type": "code",
   "execution_count": 25,
   "metadata": {
    "collapsed": false
   },
   "outputs": [],
   "source": [
    "def gradientBoosting_tuning (X, y) :\n",
    "    print 'GradientBoost tuning :'\n",
    "    print '----------------------'\n",
    "    scores = []\n",
    "#     grdboost = GradientBoostingClassifier(loss='deviance', n_estimators=100, learning_rate=1.0, max_depth=1, random_state=0)\n",
    "#     grdboFirst name: Middle name: Surname:ost.fit(X[:60000, :], y[:60000])\n",
    "#     print ('With \\'deviance\\' loss : %f' % grdboost.score(X[60000:, :], y[60000:]))\n",
    "#     grdboost = GradientBoostingClassifier(loss='exponential', n_estimators=100, learning_rate=1.0, max_depth=1, random_state=0)\n",
    "#     grdboost.fit(X[:60000, :], y[:60000])\n",
    "#     print ('With \\'exponential\\' loss : %f' % grdboost.score(X[60000:, :], y[60000:]))\n",
    "    print 'On constate que la deviance loss donne de meilleurs résultats.'\n",
    "#     for i in range (1, 1001, 100) :\n",
    "#         grdboost = GradientBoostingClassifier(n_estimators=i, learning_rate=0.2, max_depth=4, random_state=0)\n",
    "#         grdboost.fit(X[:60000, :], y[:60000])\n",
    "#         score = grdboost.score(X[60000:, :], y[60000:])\n",
    "#         scores.append(score)\n",
    "#         print ('With \\'deviance\\' loss and n_estimators = %d: %f' % (i, score))\n",
    "#     plt.figure()\n",
    "#     plt.xlabel(\"n_estimators\")\n",
    "#     plt.ylabel(\"score\")\n",
    "#     plt.plot(np.arange(1, 1001, 100), scores)\n",
    "#     plt.show()\n",
    "    print 'On constate qu\\'un nombre d\\'estimateurs de 100 donne de meilleurs résultats.'\n",
    "#     for i in np.arange (0.1, 1.1, 0.1) :\n",
    "#         grdboost = GradientBoostingClassifier(n_estimators=100, learning_rate=i, max_depth=4, random_state=0)\n",
    "#         grdboost.fit(X[:60000, :], y[:60000])\n",
    "#         score = grdboost.score(X[60000:, :], y[60000:])\n",
    "#         scores.append(score)\n",
    "#         print ('deviance loss with and n_estimators = 100 and learning_rate = %f: %f' % (i, score))\n",
    "#     plt.figure()\n",
    "#     plt.xlabel(\"learning_rate\")\n",
    "#     plt.ylabel(\"score\")\n",
    "#     plt.plot(np.arange(0.1, 1.1, 0.1), scores)\n",
    "#     plt.show()\n",
    "    print 'On constate qu\\'un learning_rate de 0.30 donne de meilleurs résultats.'\n",
    "#     for i in range (1, 5, 1) :\n",
    "#         grdboost = GradientBoostingClassifier(n_estimators=100, learning_rate=0.3, max_depth=i, random_state=0)\n",
    "#         grdboost.fit(X[:60000, :], y[:60000])\n",
    "#         score = grdboost.score(X[60000:, :], y[60000:])\n",
    "#         scores.append(score)\n",
    "#         print ('deviance loss with and n_estimators = 100 and learning_rate = 1 and max_depth = %d: %f' % (i, score))\n",
    "#     plt.figure()\n",
    "#     plt.xlabel(\"max_depth\")\n",
    "#     plt.ylabel(\"score\")\n",
    "#     plt.plot(np.arange(1, 5, 1), scores)\n",
    "#     plt.show()\n",
    "    print 'On constate qu\\'une profondeur max de 3 donne de meilleurs résultats.'\n",
    "    print 'Highest score with good GradientBoosting configurations : 0.728650'"
   ]
  },
  {
   "cell_type": "code",
   "execution_count": 26,
   "metadata": {
    "collapsed": true
   },
   "outputs": [],
   "source": [
    "def gridSearch_gradBoost (X, y) :\n",
    "    parameters = {'n_estimators':[1, 100, 250, 500],\n",
    "                  'learning_rate':[0.1, 0.25, 0.5, 0.75, 1], \n",
    "                  'max_depth':[1, 2, 3, 4]}\n",
    "    grdboost = GradientBoostingClassifier()\n",
    "    clf = GridSearchCV(grdboost, parameters)\n",
    "    clf.fit(X, y)\n",
    "    sorted(clf.cv_results_.keys())\n",
    "    print sorted(clf.cv_results_.keys())"
   ]
  },
  {
   "cell_type": "markdown",
   "metadata": {},
   "source": [
    "<a id='Data Vizualisation for Test Functions'></a>"
   ]
  },
  {
   "cell_type": "markdown",
   "metadata": {},
   "source": [
    "### ======== Data vizualisation for Test Functions ========\n"
   ]
  },
  {
   "cell_type": "code",
   "execution_count": 5,
   "metadata": {
    "collapsed": true
   },
   "outputs": [],
   "source": [
    "def data_vizualisation_for_test () :\n",
    "    with open('df_test_selected_features.csv') as line:\n",
    "        line.readline()\n",
    "        l = line.readline()\n",
    "        data = list()\n",
    "        color = list()\n",
    "        while l :\n",
    "            x=l.split(',')[0:10]\n",
    "            xi = [float(i) for i in x]\n",
    "            data.append(xi)\n",
    "            l = line.readline()\n",
    "\n",
    "    dataTest = np.array(data)\n",
    "    # 'ID1_G', 'ID2_G', 'ID_T_G', 'ID_R_G', 'POS_P1', 'diff_rating', 'diff_wins_for_tour', 'diff_wins_for_tour_ratio', 'diff_wins_for_court', 'diff_wins_for_court_ratio' \n",
    "\n",
    "    with open('leaderboard_gradB_stats.csv') as line:\n",
    "        l = line.readline()\n",
    "        color = list()\n",
    "        j = 0\n",
    "        while l :\n",
    "            label = l.split(',')[4]\n",
    "            if int(label) == 1:\n",
    "                color.append('r')\n",
    "            elif int(label) == 2:\n",
    "                color.append('b')\n",
    "            l = line.readline()\n",
    "\n",
    "    colorTest = np.array(color)\n",
    "    # 'ID1_G', 'ID2_G', 'ID_T_G', 'ID_R_G', 'POS_P1', 'diff_rating', 'diff_wins_for_tour', 'diff_wins_for_tour_ratio', 'diff_wins_for_court', 'diff_wins_for_court_ratio'\n",
    "    return dataTest, colorTest"
   ]
  },
  {
   "cell_type": "markdown",
   "metadata": {},
   "source": [
    "<a id='Main'></a>"
   ]
  },
  {
   "cell_type": "markdown",
   "metadata": {},
   "source": [
    "# ===================== Main =================\n"
   ]
  },
  {
   "cell_type": "markdown",
   "metadata": {},
   "source": [
    "<a id='Lecture des Données'></a>"
   ]
  },
  {
   "cell_type": "markdown",
   "metadata": {},
   "source": [
    "### =============== Lecture des Données  ==============="
   ]
  },
  {
   "cell_type": "code",
   "execution_count": 27,
   "metadata": {
    "collapsed": false
   },
   "outputs": [
    {
     "data": {
      "text/html": [
       "<div style=\"max-height:1000px;max-width:1500px;overflow:auto;\">\n",
       "<table border=\"1\" class=\"dataframe\">\n",
       "  <thead>\n",
       "    <tr style=\"text-align: right;\">\n",
       "      <th></th>\n",
       "      <th>ID1_G</th>\n",
       "      <th>ID2_G</th>\n",
       "      <th>ID_T_G</th>\n",
       "      <th>RANK_T</th>\n",
       "      <th>ID_C_T</th>\n",
       "      <th>ID_R_G</th>\n",
       "      <th>POINT_P1</th>\n",
       "      <th>POS_P1</th>\n",
       "      <th>POINT_P2</th>\n",
       "      <th>POS_P2</th>\n",
       "      <th>diff_rating</th>\n",
       "      <th>diff_wins_for_tour</th>\n",
       "      <th>diff_wins_for_tour_ratio</th>\n",
       "      <th>diff_wins_for_court</th>\n",
       "      <th>diff_wins_for_court_ratio</th>\n",
       "      <th>winner</th>\n",
       "    </tr>\n",
       "  </thead>\n",
       "  <tbody>\n",
       "    <tr>\n",
       "      <th>0</th>\n",
       "      <td>   935</td>\n",
       "      <td>   838</td>\n",
       "      <td> 8889</td>\n",
       "      <td> 2</td>\n",
       "      <td> 2</td>\n",
       "      <td> 4</td>\n",
       "      <td> 745.642857</td>\n",
       "      <td>   74.523810</td>\n",
       "      <td> 613.333333</td>\n",
       "      <td>   90.742857</td>\n",
       "      <td> -16.219048</td>\n",
       "      <td>  7</td>\n",
       "      <td> 0.042156</td>\n",
       "      <td> -5</td>\n",
       "      <td> 0.044029</td>\n",
       "      <td> 1</td>\n",
       "    </tr>\n",
       "    <tr>\n",
       "      <th>1</th>\n",
       "      <td> 21497</td>\n",
       "      <td> 20655</td>\n",
       "      <td> 8886</td>\n",
       "      <td> 6</td>\n",
       "      <td> 1</td>\n",
       "      <td> 4</td>\n",
       "      <td> 101.333333</td>\n",
       "      <td>  452.368421</td>\n",
       "      <td> 161.241176</td>\n",
       "      <td>  350.505882</td>\n",
       "      <td> 101.862539</td>\n",
       "      <td>  1</td>\n",
       "      <td>-0.200000</td>\n",
       "      <td>-10</td>\n",
       "      <td>-0.231884</td>\n",
       "      <td> 2</td>\n",
       "    </tr>\n",
       "    <tr>\n",
       "      <th>2</th>\n",
       "      <td> 11373</td>\n",
       "      <td>  1264</td>\n",
       "      <td> 8957</td>\n",
       "      <td> 1</td>\n",
       "      <td> 3</td>\n",
       "      <td> 5</td>\n",
       "      <td> 510.990476</td>\n",
       "      <td>  114.242857</td>\n",
       "      <td> 277.290476</td>\n",
       "      <td>  220.085714</td>\n",
       "      <td>-105.842857</td>\n",
       "      <td> 12</td>\n",
       "      <td> 0.030094</td>\n",
       "      <td> 20</td>\n",
       "      <td> 0.155112</td>\n",
       "      <td> 2</td>\n",
       "    </tr>\n",
       "    <tr>\n",
       "      <th>3</th>\n",
       "      <td> 15323</td>\n",
       "      <td> 23433</td>\n",
       "      <td> 8891</td>\n",
       "      <td> 2</td>\n",
       "      <td> 3</td>\n",
       "      <td> 9</td>\n",
       "      <td>   0.000000</td>\n",
       "      <td> 1000.000000</td>\n",
       "      <td>   0.000000</td>\n",
       "      <td> 1000.000000</td>\n",
       "      <td>   0.000000</td>\n",
       "      <td> 28</td>\n",
       "      <td>-0.605263</td>\n",
       "      <td>  9</td>\n",
       "      <td>-0.645161</td>\n",
       "      <td> 1</td>\n",
       "    </tr>\n",
       "    <tr>\n",
       "      <th>4</th>\n",
       "      <td>  6208</td>\n",
       "      <td>  1049</td>\n",
       "      <td> 8898</td>\n",
       "      <td> 2</td>\n",
       "      <td> 1</td>\n",
       "      <td> 1</td>\n",
       "      <td> 193.662500</td>\n",
       "      <td>  289.425000</td>\n",
       "      <td>  19.000000</td>\n",
       "      <td>  848.666667</td>\n",
       "      <td>-559.241667</td>\n",
       "      <td> -5</td>\n",
       "      <td>-0.389655</td>\n",
       "      <td>  6</td>\n",
       "      <td> 0.145749</td>\n",
       "      <td> 1</td>\n",
       "    </tr>\n",
       "  </tbody>\n",
       "</table>\n",
       "</div>"
      ],
      "text/plain": [
       "   ID1_G  ID2_G  ID_T_G  RANK_T  ID_C_T  ID_R_G    POINT_P1       POS_P1  \\\n",
       "0    935    838    8889       2       2       4  745.642857    74.523810   \n",
       "1  21497  20655    8886       6       1       4  101.333333   452.368421   \n",
       "2  11373   1264    8957       1       3       5  510.990476   114.242857   \n",
       "3  15323  23433    8891       2       3       9    0.000000  1000.000000   \n",
       "4   6208   1049    8898       2       1       1  193.662500   289.425000   \n",
       "\n",
       "     POINT_P2       POS_P2  diff_rating  diff_wins_for_tour  \\\n",
       "0  613.333333    90.742857   -16.219048                   7   \n",
       "1  161.241176   350.505882   101.862539                   1   \n",
       "2  277.290476   220.085714  -105.842857                  12   \n",
       "3    0.000000  1000.000000     0.000000                  28   \n",
       "4   19.000000   848.666667  -559.241667                  -5   \n",
       "\n",
       "   diff_wins_for_tour_ratio  diff_wins_for_court  diff_wins_for_court_ratio  \\\n",
       "0                  0.042156                   -5                   0.044029   \n",
       "1                 -0.200000                  -10                  -0.231884   \n",
       "2                  0.030094                   20                   0.155112   \n",
       "3                 -0.605263                    9                  -0.645161   \n",
       "4                 -0.389655                    6                   0.145749   \n",
       "\n",
       "   winner  \n",
       "0       1  \n",
       "1       2  \n",
       "2       2  \n",
       "3       1  \n",
       "4       1  "
      ]
     },
     "execution_count": 27,
     "metadata": {},
     "output_type": "execute_result"
    }
   ],
   "source": [
    "X, y, df_train = import_data('train_court_stats')\n",
    "df_train.head()\n",
    "# print X[1, :]\n",
    "# print y[10]"
   ]
  },
  {
   "cell_type": "markdown",
   "metadata": {},
   "source": [
    "<a id='Data Vizualisation for Train'></a>"
   ]
  },
  {
   "cell_type": "markdown",
   "metadata": {},
   "source": [
    "<a id='Features Importance / Dimensionnality Reduction'></a>"
   ]
  },
  {
   "cell_type": "markdown",
   "metadata": {},
   "source": [
    "### =============== Data Visualisation de Train et séparabilité des features  ==============="
   ]
  },
  {
   "cell_type": "code",
   "execution_count": 4,
   "metadata": {
    "collapsed": false
   },
   "outputs": [
    {
     "name": "stdout",
     "output_type": "stream",
     "text": [
      "Isomap: 52 sec\n"
     ]
    },
    {
     "data": {
      "text/plain": [
       "(-1135.1813917917516,\n",
       " 1146.8155741118901,\n",
       " -588.79587724270232,\n",
       " 129.41558479863644)"
      ]
     },
     "execution_count": 4,
     "metadata": {},
     "output_type": "execute_result"
    },
    {
     "data": {
      "image/png": "[encoded data removed]",
      "text/plain": [
       "<matplotlib.figure.Figure at 0x7f19245b2750>"
      ]
     },
     "metadata": {},
     "output_type": "display_data"
    }
   ],
   "source": [
    "data, color = data_vizualisation_train ()\n",
    "t0 = time.time()\n",
    "Y = manifold.Isomap(10, 2).fit_transform(data)\n",
    "t1 = time.time()\n",
    "print(\"Isomap: %.2g sec\" % (t1 - t0))\n",
    "plt.scatter(Y[:, 0], Y[:, 1], c=color, cmap=plt.cm.Spectral)\n",
    "plt.title(\"Isomap (%.2g sec)\" % (t1 - t0))\n",
    "plt.axis('tight')"
   ]
  },
  {
   "cell_type": "markdown",
   "metadata": {},
   "source": [
    "### ========= Features Importance / Dimensionnality Reduction ==========\n"
   ]
  },
  {
   "cell_type": "code",
   "execution_count": 36,
   "metadata": {
    "collapsed": false
   },
   "outputs": [
    {
     "name": "stdout",
     "output_type": "stream",
     "text": [
      "Feature ranking for Extra Trees Classifier:\n",
      "1. feature 6 (0.144802)\n",
      "2. feature 9 (0.120685)\n",
      "3. feature 7 (0.114705)\n",
      "4. feature 10 (0.108805)\n",
      "5. feature 8 (0.106922)\n",
      "6. feature 3 (0.090300)\n",
      "7. feature 2 (0.084396)\n",
      "8. feature 1 (0.079810)\n",
      "9. feature 5 (0.077371)\n",
      "10. feature 4 (0.072203)\n"
     ]
    },
    {
     "data": {
      "image/png": "[encoded data removed]",
      "text/plain": [
       "<matplotlib.figure.Figure at 0x7fe975aa3690>"
      ]
     },
     "metadata": {},
     "output_type": "display_data"
    },
    {
     "name": "stdout",
     "output_type": "stream",
     "text": [
      "Features importance by methods :\n",
      "          ADABOOST  GRAD_BOOST  L_SVM  RFE_REG  RFE_SVM   RFT  Stab\n",
      "ID1_G         0.06        0.64   0.01      0.4      0.2  0.33  0.00\n",
      "ID2_G         0.08        0.18   0.01      0.2      0.0  0.33  0.00\n",
      "ID_C_T        0.21        0.40   0.04      0.6      0.4  0.20  0.00\n",
      "ID_R_G        0.96        1.00   0.63      1.0      1.0  0.76  1.00\n",
      "ID_T_G        0.11        0.39   0.00      0.0      0.6  0.43  0.00\n",
      "POINT_P1      0.61        0.69   0.44      1.0      0.8  0.64  0.50\n",
      "POINT_P2      0.21        0.51   1.00      1.0      1.0  1.00  0.47\n",
      "POS_P1        0.89        0.50   0.02      1.0      1.0  0.60  0.00\n",
      "POS_P2        1.00        0.81   0.17      1.0      1.0  0.63  0.00\n",
      "RANK_T        0.00        0.00   0.68      0.8      1.0  0.00  0.00\n"
     ]
    },
    {
     "data": {
      "image/png": "[encoded data removed]",
      "text/plain": [
       "<matplotlib.figure.Figure at 0x7fe97594e2d0>"
      ]
     },
     "metadata": {},
     "output_type": "display_data"
    }
   ],
   "source": [
    "X_normalized = data_normalization (X)\n",
    "myFeatures_importance_forest (X, y)\n",
    "# df_train.head(1)\n",
    "# pca_features_dim_reduction(X, y)\n",
    "# rfe_nbfeatures(X, y)\n",
    "features_importance_by_methods(X, y)"
   ]
  },
  {
   "cell_type": "markdown",
   "metadata": {},
   "source": [
    "<a id='Features Selection'></a>"
   ]
  },
  {
   "cell_type": "markdown",
   "metadata": {},
   "source": [
    "### =================== Features Selection ====================\n"
   ]
  },
  {
   "cell_type": "code",
   "execution_count": 28,
   "metadata": {
    "collapsed": true
   },
   "outputs": [],
   "source": [
    "sel_feat_adaboost = ['ID1_G', 'ID2_G', 'ID_T_G', 'RANK_T', 'ID_C_T', 'ID_R_G', 'POINT_P1', 'POINT_P2', 'POS_P1', 'POS_P2', 'RANK_T']\n",
    "sel_feat_gradboost = ['ID1_G', 'ID2_G', 'ID_T_G', 'RANK_T', 'ID_C_T', 'ID_R_G', 'POINT_P2', 'POS_P1', 'POS_P2', 'RANK_T']\n",
    "sel_feat_rft = ['ID1_G', 'ID2_G', 'ID_T_G', 'RANK_T', 'ID_C_T', 'ID_R_G', 'POINT_P1', 'POINT_P2', 'POS_P1', 'POS_P2', 'RANK_T']\n",
    "\n",
    "X, y, df_train = import_data('train_court_stats')\n",
    "df_train = remove_features(df_train, sel_feat_gradboost)\n",
    "df_train.to_csv('df_train_selected_features_gradboost.csv', sep=',', index=False)\n",
    "X_gb, y_gb, df_train_gb = import_data('df_train_selected_features_gradboost')\n",
    "\n",
    "X, y, df_train = import_data('train_court_stats')\n",
    "df_train = remove_features(df_train, sel_feat_adaboost)\n",
    "df_train.to_csv('df_train_selected_features_adaboost.csv', sep=',', index=False)\n",
    "X_ab, y_ab, df_train_ab = import_data('df_train_selected_features_adaboost')\n",
    "\n",
    "X, y, df_train = import_data('train_court_stats')\n",
    "df_train = remove_features(df_train, sel_feat_rft)\n",
    "df_train.to_csv('df_train_selected_features_rft.csv', sep=',', index=False)\n",
    "X_rft, y_rft, df_train_rft = import_data('df_train_selected_features_rft')\n"
   ]
  },
  {
   "cell_type": "code",
   "execution_count": 30,
   "metadata": {
    "collapsed": true
   },
   "outputs": [],
   "source": [
    "# df_train = remove_features_from_df(df_train)\n",
    "# df_train.to_csv('df_train_selected_features.csv', sep=',', index=False)\n",
    "# X, y, df_train = import_data('df_train_selected_features')\n",
    "# # data_normalization (X)\n",
    "# # print df_train.head()"
   ]
  },
  {
   "cell_type": "markdown",
   "metadata": {},
   "source": [
    "<a id='Model Selection'></a>"
   ]
  },
  {
   "cell_type": "markdown",
   "metadata": {},
   "source": [
    "### =================== Model Selection =====================\n"
   ]
  },
  {
   "cell_type": "code",
   "execution_count": 124,
   "metadata": {
    "collapsed": false
   },
   "outputs": [
    {
     "name": "stdout",
     "output_type": "stream",
     "text": [
      "Logistic Regression score : 0.683643\n",
      "KNN score : 0.608168\n",
      "SVM score : 0.502348\n",
      "Bagging score : 0.698632\n",
      "AdaBoost score : 0.716275\n",
      "Random Forest Tree score : 0.690994\n",
      "GradientBoosting score : 0.719747\n"
     ]
    },
    {
     "data": {
      "image/png": "[encoded data removed]",
      "text/plain": [
       "<matplotlib.figure.Figure at 0x7fe409f79bd0>"
      ]
     },
     "metadata": {},
     "output_type": "display_data"
    }
   ],
   "source": [
    "scores = {}\n",
    "score = get_score_logReg (X, y)\n",
    "scores['LOGISTIC REGRESSION'] = score\n",
    "print ('Logistic Regression score : %f' % score)\n",
    "score = get_score_knn (X, y)\n",
    "scores['KNN'] = score\n",
    "print ('KNN score : %f' % score)\n",
    "score = svm_classif (X, y)\n",
    "scores['SVM'] = score\n",
    "print ('SVM score : %f' % score)\n",
    "score = get_score_bagging (X, y)\n",
    "scores['BAGGING'] = score\n",
    "print ('Bagging score : %f' % score)\n",
    "score = adaboost_classif(X_ab, y_ab)\n",
    "scores['ADABOOST'] = score\n",
    "print ('AdaBoost score : %f' % score)\n",
    "score = rft_classif (X_rft, y_rft)\n",
    "scores['RANDOM FOREST TREE'] = score\n",
    "print ('Random Forest Tree score : %f' % score)\n",
    "score = gradientBoosting_classif(X_gb, y_gb)\n",
    "scores['GRADIENT BOOSTING'] = score\n",
    "print ('GradientBoosting score : %f' % score)\n",
    "\n",
    "plt.figure(figsize = (10, 6))\n",
    "plt.barh(range(len(scores)), scores.values(), align='center', color='r')\n",
    "plt.xticks(np.arange(0, 1.05, 0.05))\n",
    "plt.yticks(range(len(scores)), scores.keys())\n",
    "plt.xlim(0, 1)\n",
    "plt.xlabel('Scores')\n",
    "plt.title('Scores by Model')\n",
    "# plt.grid(True)\n",
    "cpt=1\n",
    "for m,n in scores.items() :\n",
    "    plt.annotate(str(round(n, 3)),\n",
    "                 (n, cpt*0.04),\n",
    "                 xytext=(n+0.04,cpt-1))\n",
    "    cpt+=1"
   ]
  },
  {
   "cell_type": "markdown",
   "metadata": {},
   "source": [
    "##### On trouve que le meilleur modèle pour nos données est Gradient Boosting avec des arbres de décisions comme classifieurs."
   ]
  },
  {
   "cell_type": "markdown",
   "metadata": {},
   "source": [
    "<a id='Model Tuning'></a>"
   ]
  },
  {
   "cell_type": "markdown",
   "metadata": {},
   "source": [
    "<a id='Model Tuning'></a>"
   ]
  },
  {
   "cell_type": "markdown",
   "metadata": {},
   "source": [
    "### ===================== Model Tuning =======================\n"
   ]
  },
  {
   "cell_type": "code",
   "execution_count": 32,
   "metadata": {
    "collapsed": true
   },
   "outputs": [],
   "source": [
    "# gridSearch_gradBoost(X, y)"
   ]
  },
  {
   "cell_type": "code",
   "execution_count": 29,
   "metadata": {
    "collapsed": false
   },
   "outputs": [
    {
     "name": "stdout",
     "output_type": "stream",
     "text": [
      "Random Forest Tree tuning :\n",
      "---------------------------\n",
      "On constate que le nombre d'estimateurs = 600 donne de meilleurs résultats.\n",
      "On constate que le criterion entropy donne de meilleurs résultats.\n",
      "\n",
      "\n",
      "AdaBoost tuning : \n",
      "-----------------\n",
      "On constate que l'algorithme SAMME.R donne de meilleurs résultats.\n",
      "On constate qu'une max_depth de 3 pour les arbres donne de meilleurs résultats.\n",
      "On constate qu'un n_estimators de 200 donne de meilleurs résultats.\n",
      "On constate qu'un learning_rate de 0.56 donne de meilleurs résultats.\n",
      "Highest score with good AdaBoost configurations : 0.726935\n",
      "\n",
      "\n",
      "GradientBoost tuning :\n",
      "----------------------\n",
      "On constate que la deviance loss donne de meilleurs résultats.\n",
      "On constate qu'un nombre d'estimateurs de 100 donne de meilleurs résultats.\n",
      "On constate qu'un learning_rate de 0.30 donne de meilleurs résultats.\n",
      "On constate qu'une profondeur max de 3 donne de meilleurs résultats.\n",
      "Highest score with good GradientBoosting configurations : 0.728650\n"
     ]
    }
   ],
   "source": [
    "# svm_tuning (X, y)\n",
    "rft_tuning(X,y)\n",
    "print ('\\n')\n",
    "adaboost_tuning (X, y)\n",
    "print ('\\n')\n",
    "gradientBoosting_tuning(X, y)"
   ]
  },
  {
   "cell_type": "markdown",
   "metadata": {},
   "source": [
    "<a id='Test du Modèle Final'></a>"
   ]
  },
  {
   "cell_type": "markdown",
   "metadata": {},
   "source": [
    "### ===================== Test du Modèle Final =======================\n"
   ]
  },
  {
   "cell_type": "code",
   "execution_count": 30,
   "metadata": {
    "collapsed": false
   },
   "outputs": [
    {
     "name": "stdout",
     "output_type": "stream",
     "text": [
      "0.729099448642\n"
     ]
    }
   ],
   "source": [
    "sel_feat_gradboost = ['ID1_G', 'ID2_G', 'ID_T_G', 'RANK_T', 'ID_C_T', 'ID_R_G', 'POINT_P2', 'POS_P1', 'POS_P2', 'RANK_T']\n",
    "\n",
    "X, y, df_train = import_data('train_court_stats')\n",
    "\n",
    "df_train = remove_features_from_df(df_train)\n",
    "df_train.to_csv('df_train_selected_features.csv', sep=',', index=False)\n",
    "X, y, df_train = import_data('df_train_selected_features')\n",
    "grdboost = GradientBoostingClassifier(n_estimators=100, learning_rate=0.3, max_depth=3, random_state=0)\n",
    "grdboost.fit(X[:60000, :], y[:60000])\n",
    "print grdboost.score(X[60000:, :], y[60000:])\n"
   ]
  },
  {
   "cell_type": "markdown",
   "metadata": {},
   "source": [
    "##### On essai le modèle Gradient Boosting après tuning  :\n",
    "On obtient un score de ~72,9% ."
   ]
  },
  {
   "cell_type": "markdown",
   "metadata": {},
   "source": [
    "<a id='Prediction'></a>"
   ]
  },
  {
   "cell_type": "markdown",
   "metadata": {},
   "source": [
    "### ====================== Prediction =======================\n"
   ]
  },
  {
   "cell_type": "code",
   "execution_count": null,
   "metadata": {
    "collapsed": false
   },
   "outputs": [],
   "source": [
    "# test_public= pd.read_csv('test_court_stats.csv')\n",
    "# #print test_public.head(20)\n",
    "# test_public = remove_features_from_df(test_public)\n",
    "# #print test_public.head(20)\n",
    "# test_public.to_csv('df_test_selected_features.csv', sep=',', index=False)\n",
    "# X_test, y_test, df_test = import_data('df_test_selected_features')\n",
    "# X_test = df_test.values\n",
    "# data_normalization (X_test)\n",
    "\n",
    "# print test_public.head()\n",
    "\n",
    "# prediction_rft = rft_predict(X, y, X_test)\n",
    "# print prediction_rft\n",
    "# prediction_gradBoosting = gradientBoosting_predict(X, y, X_test)\n",
    "# print prediction_gradBoosting\n"
   ]
  },
  {
   "cell_type": "markdown",
   "metadata": {},
   "source": [
    "<a id='Data Visualisation sur Test'></a>"
   ]
  },
  {
   "cell_type": "markdown",
   "metadata": {},
   "source": [
    "### ===================== Data Vizualisation sur Test =======================\n"
   ]
  },
  {
   "cell_type": "code",
   "execution_count": 8,
   "metadata": {
    "collapsed": false
   },
   "outputs": [
    {
     "name": "stdout",
     "output_type": "stream",
     "text": [
      "Isomap: 30 sec\n"
     ]
    },
    {
     "data": {
      "text/plain": [
       "(-60254.089917945428,\n",
       " 43209.1417315117,\n",
       " -44495.285598953917,\n",
       " 46111.372021577656)"
      ]
     },
     "execution_count": 8,
     "metadata": {},
     "output_type": "execute_result"
    },
    {
     "data": {
      "image/png": "[encoded data removed]",
      "text/plain": [
       "<matplotlib.figure.Figure at 0x7f19246e64d0>"
      ]
     },
     "metadata": {},
     "output_type": "display_data"
    }
   ],
   "source": [
    "dataTest, colorTest = data_vizualisation_for_test ()\n",
    "t0 = time.time()\n",
    "Y = manifold.Isomap(10, 2).fit_transform(dataTest)\n",
    "t1 = time.time()\n",
    "print(\"Isomap: %.2g sec\" % (t1 - t0))\n",
    "plt.scatter(Y[:, 0], Y[:, 1], c=colorTest, cmap=plt.cm.Spectral)\n",
    "plt.title(\"Isomap (%.2g sec)\" % (t1 - t0))\n",
    "plt.axis('tight')"
   ]
  },
  {
   "cell_type": "markdown",
   "metadata": {},
   "source": [
    "<a id='---> To Leaderboard'></a>"
   ]
  },
  {
   "cell_type": "markdown",
   "metadata": {},
   "source": [
    "### ======================== ---> To Leaderboard =====================\n"
   ]
  },
  {
   "cell_type": "code",
   "execution_count": null,
   "metadata": {
    "collapsed": false
   },
   "outputs": [],
   "source": [
    "# df_leaderboard_rtf_stats = df_test[['ID1_G', 'ID2_G', 'ID_T_G', 'ID_R_G', 'POS_P1', 'diff_rating', 'diff_wins_for_tour', 'diff_wins_for_tour_ratio', 'diff_wins_for_court', 'diff_wins_for_court_ratio']]\n",
    "# df_leaderboard_rtf_stats['predictions'] = prediction_rft\n",
    "# df_leaderboard_rtf_stats = df_leaderboard_rtf_stats.drop(['POS_P1', 'diff_rating', 'diff_wins_for_tour', 'diff_wins_for_tour_ratio', 'diff_wins_for_court', 'diff_wins_for_court_ratio'], 1)\n",
    "# df_leaderboard_rtf_stats.head(10)"
   ]
  },
  {
   "cell_type": "code",
   "execution_count": null,
   "metadata": {
    "collapsed": false
   },
   "outputs": [],
   "source": [
    "# df_leaderboard_rtf_stats.to_csv('leaderboard_rtf_stats.csv', sep=',', index=False, header= False)"
   ]
  },
  {
   "cell_type": "code",
   "execution_count": null,
   "metadata": {
    "collapsed": false
   },
   "outputs": [],
   "source": [
    "# df_leaderboard_gradB_stats = df_test[['ID1_G', 'ID2_G', 'ID_T_G', 'ID_R_G', 'POS_P1', 'diff_rating', 'diff_wins_for_tour', 'diff_wins_for_tour_ratio', 'diff_wins_for_court', 'diff_wins_for_court_ratio']]\n",
    "# df_leaderboard_gradB_stats['predictions'] = prediction_gradBoosting\n",
    "# df_leaderboard_gradB_stats = df_leaderboard_gradB_stats.drop(['POS_P1', 'diff_rating', 'diff_wins_for_tour', 'diff_wins_for_tour_ratio', 'diff_wins_for_court', 'diff_wins_for_court_ratio'], 1)\n",
    "# df_leaderboard_gradB_stats.head(10)"
   ]
  },
  {
   "cell_type": "code",
   "execution_count": null,
   "metadata": {
    "collapsed": true
   },
   "outputs": [],
   "source": [
    "# df_leaderboard_gradB_stats.to_csv('leaderboard_gradB_stats.csv', sep=',', index=False, header= False)"
   ]
  }
 ],
 "metadata": {
  "anaconda-cloud": {},
  "kernelspec": {
   "display_name": "Python [default]",
   "language": "python",
   "name": "python2"
  },
  "language_info": {
   "codemirror_mode": {
    "name": "ipython",
    "version": 2
   },
   "file_extension": ".py",
   "mimetype": "text/x-python",
   "name": "python",
   "nbconvert_exporter": "python",
   "pygments_lexer": "ipython2",
   "version": "2.7.12"
  }
 },
 "nbformat": 4,
 "nbformat_minor": 1
}
